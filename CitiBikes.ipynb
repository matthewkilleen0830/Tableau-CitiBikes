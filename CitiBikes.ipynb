{
 "cells": [
  {
   "cell_type": "code",
   "execution_count": null,
   "metadata": {},
   "outputs": [],
   "source": [
    "# Dependencies and setup\n",
    "import pandas as pd"
   ]
  },
  {
   "cell_type": "code",
   "execution_count": null,
   "metadata": {},
   "outputs": [],
   "source": [
    "# Declare variables to hold file paths\n",
    "jan = \"Data/202001-citibike-tripdata.csv\"\n",
    "feb = \"Data/202002-citibike-tripdata.csv\"\n",
    "mar = \"Data/202003-citibike-tripdata.csv\"\n",
    "apr = \"Data/202004-citibike-tripdata.csv\"\n",
    "may = \"Data/202005-citibike-tripdata.csv\"\n",
    "jun = \"Data/202006-citibike-tripdata.csv\"\n",
    "jul = \"Data/202007-citibike-tripdata.csv\"\n",
    "aug = \"Data/202008-citibike-tripdata.csv\"\n",
    "sep = \"Data/202009-citibike-tripdata.csv\"\n",
    "oct = \"Data/202010-citibike-tripdata.csv\"\n",
    "nov = \"Data/202011-citibike-tripdata.csv\"\n",
    "dec = \"Data/202012-citibike-tripdata.csv\""
   ]
  },
  {
   "cell_type": "code",
   "execution_count": null,
   "metadata": {},
   "outputs": [],
   "source": [
    "# Create list of all months' data\n",
    "allMonths = [jan, feb, mar, apr, may, jun, jul, aug, sep, oct, nov, dec]\n",
    "\n",
    "# Create empty list to append DataFrames into\n",
    "allDF = []\n",
    "\n",
    "# Loop through allMonths list, read CSVs into DataFrames, and add to allDF list\n",
    "for month in allMonths:\n",
    "    allDF.append(pd.read_csv(month))"
   ]
  },
  {
   "cell_type": "code",
   "execution_count": null,
   "metadata": {},
   "outputs": [],
   "source": [
    "# Concatenate the list of DataFrames into one DataFrame to be exported\n",
    "citi2020 = pd.concat(allDF, sort = False)"
   ]
  },
  {
   "cell_type": "code",
   "execution_count": null,
   "metadata": {},
   "outputs": [],
   "source": [
    "# Display comprehensive DataFrame\n",
    "citi2020"
   ]
  },
  {
   "cell_type": "code",
   "execution_count": null,
   "metadata": {},
   "outputs": [],
   "source": [
    "# Limit DataFrame to Baby Boomers' generation\n",
    "citi2020 = citi2020.loc[((citi2020[\"birth year\"] > 1945) & (citi2020[\"birth year\"] < 1965)), :]\n",
    "\n",
    "# Reset index in place\n",
    "citi2020.reset_index(inplace = True, drop = True)\n",
    "\n",
    "# Display DataFrame\n",
    "citi2020"
   ]
  },
  {
   "cell_type": "code",
   "execution_count": null,
   "metadata": {},
   "outputs": [],
   "source": [
    "# Export DataFrame to CSV for Tableau analysis\n",
    "citi2020.to_csv(\"Data/citi2020.csv\", index = True)"
   ]
  },
  {
   "cell_type": "code",
   "execution_count": null,
   "metadata": {},
   "outputs": [],
   "source": []
  }
 ],
 "metadata": {
  "kernelspec": {
   "display_name": "Python 3",
   "language": "python",
   "name": "python3"
  },
  "language_info": {
   "codemirror_mode": {
    "name": "ipython",
    "version": 3
   },
   "file_extension": ".py",
   "mimetype": "text/x-python",
   "name": "python",
   "nbconvert_exporter": "python",
   "pygments_lexer": "ipython3",
   "version": "3.6.10"
  }
 },
 "nbformat": 4,
 "nbformat_minor": 4
}
